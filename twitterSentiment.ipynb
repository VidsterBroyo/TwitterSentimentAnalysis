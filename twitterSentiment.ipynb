{
 "cells": [
  {
   "cell_type": "markdown",
   "id": "7a0d515a",
   "metadata": {
    "papermill": {
     "duration": 0.006068,
     "end_time": "2023-07-07T19:00:52.516262",
     "exception": false,
     "start_time": "2023-07-07T19:00:52.510194",
     "status": "completed"
    },
    "tags": []
   },
   "source": [
    "# <b>twitter sentiment detection - sentiment 140 - random forest & xgboost</b>\n",
    "### by vidu widyalankara"
   ]
  },
  {
   "cell_type": "markdown",
   "id": "abd2a722",
   "metadata": {
    "papermill": {
     "duration": 0.005044,
     "end_time": "2023-07-07T19:00:52.527454",
     "exception": false,
     "start_time": "2023-07-07T19:00:52.522410",
     "status": "completed"
    },
    "tags": []
   },
   "source": [
    "### [slidedeck with more info!](https://docs.google.com/presentation/d/e/2PACX-1vSOffim8oAY4UuielXu4wAQHRXD1puxc2szmvtBsZBtC6nnUoQOegfjHsK3UnQZdwZhD-QdjokBDBVx/pub?start=true&loop=false&delayms=5000)"
   ]
  },
  {
   "cell_type": "markdown",
   "id": "2cd3e3a2",
   "metadata": {
    "papermill": {
     "duration": 0.004891,
     "end_time": "2023-07-07T19:00:52.537528",
     "exception": false,
     "start_time": "2023-07-07T19:00:52.532637",
     "status": "completed"
    },
    "tags": []
   },
   "source": [
    "# library imports"
   ]
  },
  {
   "cell_type": "code",
   "execution_count": 3,
   "id": "53249ed5",
   "metadata": {
    "execution": {
     "iopub.execute_input": "2023-07-07T19:00:52.549953Z",
     "iopub.status.busy": "2023-07-07T19:00:52.549633Z",
     "iopub.status.idle": "2023-07-07T19:00:54.890306Z",
     "shell.execute_reply": "2023-07-07T19:00:54.889339Z"
    },
    "papermill": {
     "duration": 2.349926,
     "end_time": "2023-07-07T19:00:54.892789",
     "exception": false,
     "start_time": "2023-07-07T19:00:52.542863",
     "status": "completed"
    },
    "tags": []
   },
   "outputs": [],
   "source": [
    "import numpy as np \n",
    "import pandas as pd\n",
    "import matplotlib.pyplot as plt\n",
    "import seaborn as sns\n",
    "from nltk.corpus import stopwords\n",
    "adjustedStopwords = stopwords.words(\"english\") + [\"quot\", \"going\", \"twitpic\", \"I'm\", \"I've\", \"amp\", \"u\", \"im\", \"get\", \"got\"]"
   ]
  },
  {
   "cell_type": "markdown",
   "id": "aeb0b4f4",
   "metadata": {
    "papermill": {
     "duration": 0.00507,
     "end_time": "2023-07-07T19:00:54.904910",
     "exception": false,
     "start_time": "2023-07-07T19:00:54.899840",
     "status": "completed"
    },
    "tags": []
   },
   "source": [
    "# importing data"
   ]
  },
  {
   "cell_type": "code",
   "execution_count": 4,
   "id": "595efd32",
   "metadata": {
    "execution": {
     "iopub.execute_input": "2023-07-07T19:00:54.917547Z",
     "iopub.status.busy": "2023-07-07T19:00:54.916996Z",
     "iopub.status.idle": "2023-07-07T19:01:00.308790Z",
     "shell.execute_reply": "2023-07-07T19:01:00.307429Z"
    },
    "papermill": {
     "duration": 5.401341,
     "end_time": "2023-07-07T19:01:00.311524",
     "exception": false,
     "start_time": "2023-07-07T19:00:54.910183",
     "status": "completed"
    },
    "tags": []
   },
   "outputs": [
    {
     "data": {
      "text/html": [
       "<div>\n",
       "<style scoped>\n",
       "    .dataframe tbody tr th:only-of-type {\n",
       "        vertical-align: middle;\n",
       "    }\n",
       "\n",
       "    .dataframe tbody tr th {\n",
       "        vertical-align: top;\n",
       "    }\n",
       "\n",
       "    .dataframe thead th {\n",
       "        text-align: right;\n",
       "    }\n",
       "</style>\n",
       "<table border=\"1\" class=\"dataframe\">\n",
       "  <thead>\n",
       "    <tr style=\"text-align: right;\">\n",
       "      <th></th>\n",
       "      <th>Sentiment</th>\n",
       "      <th>ID</th>\n",
       "      <th>Date</th>\n",
       "      <th>Query</th>\n",
       "      <th>User</th>\n",
       "      <th>Tweet</th>\n",
       "    </tr>\n",
       "  </thead>\n",
       "  <tbody>\n",
       "    <tr>\n",
       "      <th>0</th>\n",
       "      <td>0</td>\n",
       "      <td>1467810369</td>\n",
       "      <td>Mon Apr 06 22:19:45 PDT 2009</td>\n",
       "      <td>NO_QUERY</td>\n",
       "      <td>_TheSpecialOne_</td>\n",
       "      <td>@switchfoot http://twitpic.com/2y1zl - Awww, t...</td>\n",
       "    </tr>\n",
       "    <tr>\n",
       "      <th>1</th>\n",
       "      <td>0</td>\n",
       "      <td>1467810672</td>\n",
       "      <td>Mon Apr 06 22:19:49 PDT 2009</td>\n",
       "      <td>NO_QUERY</td>\n",
       "      <td>scotthamilton</td>\n",
       "      <td>is upset that he can't update his Facebook by ...</td>\n",
       "    </tr>\n",
       "    <tr>\n",
       "      <th>2</th>\n",
       "      <td>0</td>\n",
       "      <td>1467810917</td>\n",
       "      <td>Mon Apr 06 22:19:53 PDT 2009</td>\n",
       "      <td>NO_QUERY</td>\n",
       "      <td>mattycus</td>\n",
       "      <td>@Kenichan I dived many times for the ball. Man...</td>\n",
       "    </tr>\n",
       "    <tr>\n",
       "      <th>3</th>\n",
       "      <td>0</td>\n",
       "      <td>1467811184</td>\n",
       "      <td>Mon Apr 06 22:19:57 PDT 2009</td>\n",
       "      <td>NO_QUERY</td>\n",
       "      <td>ElleCTF</td>\n",
       "      <td>my whole body feels itchy and like its on fire</td>\n",
       "    </tr>\n",
       "    <tr>\n",
       "      <th>4</th>\n",
       "      <td>0</td>\n",
       "      <td>1467811193</td>\n",
       "      <td>Mon Apr 06 22:19:57 PDT 2009</td>\n",
       "      <td>NO_QUERY</td>\n",
       "      <td>Karoli</td>\n",
       "      <td>@nationwideclass no, it's not behaving at all....</td>\n",
       "    </tr>\n",
       "    <tr>\n",
       "      <th>5</th>\n",
       "      <td>0</td>\n",
       "      <td>1467811372</td>\n",
       "      <td>Mon Apr 06 22:20:00 PDT 2009</td>\n",
       "      <td>NO_QUERY</td>\n",
       "      <td>joy_wolf</td>\n",
       "      <td>@Kwesidei not the whole crew</td>\n",
       "    </tr>\n",
       "    <tr>\n",
       "      <th>6</th>\n",
       "      <td>0</td>\n",
       "      <td>1467811592</td>\n",
       "      <td>Mon Apr 06 22:20:03 PDT 2009</td>\n",
       "      <td>NO_QUERY</td>\n",
       "      <td>mybirch</td>\n",
       "      <td>Need a hug</td>\n",
       "    </tr>\n",
       "    <tr>\n",
       "      <th>7</th>\n",
       "      <td>0</td>\n",
       "      <td>1467811594</td>\n",
       "      <td>Mon Apr 06 22:20:03 PDT 2009</td>\n",
       "      <td>NO_QUERY</td>\n",
       "      <td>coZZ</td>\n",
       "      <td>@LOLTrish hey  long time no see! Yes.. Rains a...</td>\n",
       "    </tr>\n",
       "    <tr>\n",
       "      <th>8</th>\n",
       "      <td>0</td>\n",
       "      <td>1467811795</td>\n",
       "      <td>Mon Apr 06 22:20:05 PDT 2009</td>\n",
       "      <td>NO_QUERY</td>\n",
       "      <td>2Hood4Hollywood</td>\n",
       "      <td>@Tatiana_K nope they didn't have it</td>\n",
       "    </tr>\n",
       "    <tr>\n",
       "      <th>9</th>\n",
       "      <td>0</td>\n",
       "      <td>1467812025</td>\n",
       "      <td>Mon Apr 06 22:20:09 PDT 2009</td>\n",
       "      <td>NO_QUERY</td>\n",
       "      <td>mimismo</td>\n",
       "      <td>@twittera que me muera ?</td>\n",
       "    </tr>\n",
       "  </tbody>\n",
       "</table>\n",
       "</div>"
      ],
      "text/plain": [
       "   Sentiment          ID                          Date     Query  \\\n",
       "0          0  1467810369  Mon Apr 06 22:19:45 PDT 2009  NO_QUERY   \n",
       "1          0  1467810672  Mon Apr 06 22:19:49 PDT 2009  NO_QUERY   \n",
       "2          0  1467810917  Mon Apr 06 22:19:53 PDT 2009  NO_QUERY   \n",
       "3          0  1467811184  Mon Apr 06 22:19:57 PDT 2009  NO_QUERY   \n",
       "4          0  1467811193  Mon Apr 06 22:19:57 PDT 2009  NO_QUERY   \n",
       "5          0  1467811372  Mon Apr 06 22:20:00 PDT 2009  NO_QUERY   \n",
       "6          0  1467811592  Mon Apr 06 22:20:03 PDT 2009  NO_QUERY   \n",
       "7          0  1467811594  Mon Apr 06 22:20:03 PDT 2009  NO_QUERY   \n",
       "8          0  1467811795  Mon Apr 06 22:20:05 PDT 2009  NO_QUERY   \n",
       "9          0  1467812025  Mon Apr 06 22:20:09 PDT 2009  NO_QUERY   \n",
       "\n",
       "              User                                              Tweet  \n",
       "0  _TheSpecialOne_  @switchfoot http://twitpic.com/2y1zl - Awww, t...  \n",
       "1    scotthamilton  is upset that he can't update his Facebook by ...  \n",
       "2         mattycus  @Kenichan I dived many times for the ball. Man...  \n",
       "3          ElleCTF    my whole body feels itchy and like its on fire   \n",
       "4           Karoli  @nationwideclass no, it's not behaving at all....  \n",
       "5         joy_wolf                      @Kwesidei not the whole crew   \n",
       "6          mybirch                                        Need a hug   \n",
       "7             coZZ  @LOLTrish hey  long time no see! Yes.. Rains a...  \n",
       "8  2Hood4Hollywood               @Tatiana_K nope they didn't have it   \n",
       "9          mimismo                          @twittera que me muera ?   "
      ]
     },
     "execution_count": 4,
     "metadata": {},
     "output_type": "execute_result"
    }
   ],
   "source": [
    "df = pd.read_csv('tweets.csv', names=[\"Sentiment\", \"ID\", \"Date\", \"Query\", \"User\", \"Tweet\"], encoding='latin-1')\n",
    "df.head(10)"
   ]
  },
  {
   "cell_type": "markdown",
   "id": "352a6825",
   "metadata": {
    "papermill": {
     "duration": 0.005554,
     "end_time": "2023-07-07T19:01:00.323383",
     "exception": false,
     "start_time": "2023-07-07T19:01:00.317829",
     "status": "completed"
    },
    "tags": []
   },
   "source": [
    "# cleaning data"
   ]
  },
  {
   "cell_type": "code",
   "execution_count": null,
   "id": "d8ffde96",
   "metadata": {
    "execution": {
     "iopub.execute_input": "2023-07-07T19:01:00.336664Z",
     "iopub.status.busy": "2023-07-07T19:01:00.336290Z",
     "iopub.status.idle": "2023-07-07T19:01:00.466146Z",
     "shell.execute_reply": "2023-07-07T19:01:00.465155Z"
    },
    "papermill": {
     "duration": 0.139086,
     "end_time": "2023-07-07T19:01:00.468070",
     "exception": false,
     "start_time": "2023-07-07T19:01:00.328984",
     "status": "completed"
    },
    "tags": []
   },
   "outputs": [],
   "source": [
    "# drop query & ID column\n",
    "df = df.drop(['Query', 'ID'], axis=1)\n",
    "df.sample(5)"
   ]
  },
  {
   "cell_type": "code",
   "execution_count": null,
   "id": "e194e9df",
   "metadata": {
    "execution": {
     "iopub.execute_input": "2023-07-07T19:01:00.481682Z",
     "iopub.status.busy": "2023-07-07T19:01:00.481306Z",
     "iopub.status.idle": "2023-07-07T19:04:28.136687Z",
     "shell.execute_reply": "2023-07-07T19:04:28.135653Z"
    },
    "papermill": {
     "duration": 207.670821,
     "end_time": "2023-07-07T19:04:28.144769",
     "exception": false,
     "start_time": "2023-07-07T19:01:00.473948",
     "status": "completed"
    },
    "tags": []
   },
   "outputs": [],
   "source": [
    "# formatting date to datetime object & converting timezone to EST\n",
    "dateCol = pd.to_datetime(df['Date'])\n",
    "dateCol = dateCol.dt.tz_localize(tz='America/Los_Angeles').dt.tz_convert('US/Eastern')\n",
    "\n",
    "# splitting date & hour column\n",
    "df['Date'] = dateCol.dt.date\n",
    "df['Hour'] = dateCol.dt.hour \n",
    "\n",
    "# changing order of columns\n",
    "df = df.reindex(columns = ['Sentiment', 'User', 'Tweet', 'Date', 'Hour'])\n",
    "\n",
    "df.sample(10)"
   ]
  },
  {
   "cell_type": "markdown",
   "id": "00638e00",
   "metadata": {
    "papermill": {
     "duration": 0.005967,
     "end_time": "2023-07-07T19:04:28.156860",
     "exception": false,
     "start_time": "2023-07-07T19:04:28.150893",
     "status": "completed"
    },
    "tags": []
   },
   "source": [
    "# eda"
   ]
  },
  {
   "cell_type": "code",
   "execution_count": null,
   "id": "6dbd1c8d",
   "metadata": {
    "execution": {
     "iopub.execute_input": "2023-07-07T19:04:28.171092Z",
     "iopub.status.busy": "2023-07-07T19:04:28.170790Z",
     "iopub.status.idle": "2023-07-07T19:04:28.335328Z",
     "shell.execute_reply": "2023-07-07T19:04:28.334062Z"
    },
    "papermill": {
     "duration": 0.173949,
     "end_time": "2023-07-07T19:04:28.337157",
     "exception": false,
     "start_time": "2023-07-07T19:04:28.163208",
     "status": "completed"
    },
    "tags": []
   },
   "outputs": [],
   "source": [
    "print(f\"Date range of Tweets: {df['Date'].min()} -- {df['Date'].max()}\")"
   ]
  },
  {
   "cell_type": "code",
   "execution_count": null,
   "id": "96c2cc8d",
   "metadata": {
    "execution": {
     "iopub.execute_input": "2023-07-07T19:04:28.351036Z",
     "iopub.status.busy": "2023-07-07T19:04:28.350716Z",
     "iopub.status.idle": "2023-07-07T19:04:29.294168Z",
     "shell.execute_reply": "2023-07-07T19:04:29.293240Z"
    },
    "papermill": {
     "duration": 0.952384,
     "end_time": "2023-07-07T19:04:29.295970",
     "exception": false,
     "start_time": "2023-07-07T19:04:28.343586",
     "status": "completed"
    },
    "tags": []
   },
   "outputs": [],
   "source": [
    "# get number of tweets by sentiment\n",
    "tweets = df.groupby(['Sentiment']).count()\n",
    "\n",
    "plt.bar(tweets.index, tweets[\"Tweet\"]) \n",
    "plt.xlabel(\"Sentiment\") \n",
    "plt.ylabel(\"No. of Tweets\") \n",
    "plt.title(\"Number of Tweets per Sentiment\") \n",
    "plt.show() "
   ]
  },
  {
   "cell_type": "code",
   "execution_count": null,
   "id": "c867b318",
   "metadata": {
    "execution": {
     "iopub.execute_input": "2023-07-07T19:04:29.311597Z",
     "iopub.status.busy": "2023-07-07T19:04:29.311241Z",
     "iopub.status.idle": "2023-07-07T19:04:30.364579Z",
     "shell.execute_reply": "2023-07-07T19:04:30.363588Z"
    },
    "papermill": {
     "duration": 1.063576,
     "end_time": "2023-07-07T19:04:30.366813",
     "exception": false,
     "start_time": "2023-07-07T19:04:29.303237",
     "status": "completed"
    },
    "tags": []
   },
   "outputs": [],
   "source": [
    "# get only happy/sad tweets\n",
    "happyTweets = df.loc[(df[\"Sentiment\"] == 4)]\n",
    "sadTweets = df.loc[(df[\"Sentiment\"] == 0)]\n",
    "\n",
    "# get number of tweets by hour posted\n",
    "happyTweets = happyTweets.groupby(happyTweets['Hour']).count()\n",
    "sadTweets = sadTweets.groupby(sadTweets['Hour']).count()\n",
    "\n",
    "# labelling axes & title\n",
    "plt.figure(figsize=(10, 7))\n",
    "plt.ylabel('No. of Tweets')\n",
    "plt.xlabel('Time of Day (EST)')\n",
    "plt.title(\"Time of Day of Happy & Sad Tweets\")\n",
    "\n",
    "# creating line graphs\n",
    "plt.plot(happyTweets.index, happyTweets[\"Tweet\"], label=\"happy tweets\", color='#e3d800')\n",
    "plt.plot(sadTweets.index, sadTweets[\"Tweet\"], label=\"sad tweets\", color='b')\n",
    "plt.xticks(ticks=happyTweets.index[::2], labels=happyTweets.index[::2].astype(str) + ':00')\n",
    "plt.legend(loc=\"upper center\")\n",
    "\n",
    "plt.show()"
   ]
  },
  {
   "cell_type": "code",
   "execution_count": null,
   "id": "d69ebb74",
   "metadata": {
    "execution": {
     "iopub.execute_input": "2023-07-07T19:04:30.383652Z",
     "iopub.status.busy": "2023-07-07T19:04:30.383302Z",
     "iopub.status.idle": "2023-07-07T19:04:32.608699Z",
     "shell.execute_reply": "2023-07-07T19:04:32.607668Z"
    },
    "papermill": {
     "duration": 2.236651,
     "end_time": "2023-07-07T19:04:32.611316",
     "exception": false,
     "start_time": "2023-07-07T19:04:30.374665",
     "status": "completed"
    },
    "tags": []
   },
   "outputs": [],
   "source": [
    "# using boolean filter, get only the text of happy tweets\n",
    "happyTweets = df.loc[(df[\"Sentiment\"] == 4)][\"Tweet\"]\n",
    "happyText = happyTweets.str.cat(sep=\" \")\n",
    "sadTweets = df.loc[(df[\"Sentiment\"] == 0)][\"Tweet\"]\n",
    "sadText = sadTweets.str.cat(sep=\" \")\n",
    "\n",
    "# graph data\n",
    "plt.bar([\"Happy Tweets\", \"Sad Tweets\"], [len(happyText.split(' ')) / 1_600_000, len(sadText.split(' ')) / 1_600_000]) # get average number of words\n",
    "plt.ylabel(\"Number of Words\")\n",
    "plt.title(\"Average Number of Words for Happy & Sad Tweets\")\n",
    "plt.show()"
   ]
  },
  {
   "cell_type": "code",
   "execution_count": null,
   "id": "9e483715",
   "metadata": {
    "execution": {
     "iopub.execute_input": "2023-07-07T19:04:32.628897Z",
     "iopub.status.busy": "2023-07-07T19:04:32.628575Z",
     "iopub.status.idle": "2023-07-07T19:05:12.995612Z",
     "shell.execute_reply": "2023-07-07T19:05:12.994554Z"
    },
    "papermill": {
     "duration": 40.383803,
     "end_time": "2023-07-07T19:05:13.003276",
     "exception": false,
     "start_time": "2023-07-07T19:04:32.619473",
     "status": "completed"
    },
    "tags": []
   },
   "outputs": [],
   "source": [
    "from wordcloud import WordCloud\n",
    "\n",
    "# render wordcloud\n",
    "wordcloud = WordCloud(\n",
    "    width=1000, height=500,\n",
    "    stopwords=adjustedStopwords,\n",
    "    background_color=\"white\"\n",
    ").generate(happyText)\n",
    "\n",
    "# show\n",
    "plt.imshow(wordcloud)\n",
    "plt.axis(\"off\")\n",
    "plt.show(wordcloud)"
   ]
  },
  {
   "cell_type": "code",
   "execution_count": null,
   "id": "33911d26",
   "metadata": {
    "execution": {
     "iopub.execute_input": "2023-07-07T19:05:13.031164Z",
     "iopub.status.busy": "2023-07-07T19:05:13.030806Z",
     "iopub.status.idle": "2023-07-07T19:05:51.436089Z",
     "shell.execute_reply": "2023-07-07T19:05:51.434972Z"
    },
    "papermill": {
     "duration": 38.438139,
     "end_time": "2023-07-07T19:05:51.454583",
     "exception": false,
     "start_time": "2023-07-07T19:05:13.016444",
     "status": "completed"
    },
    "tags": []
   },
   "outputs": [],
   "source": [
    "# render wordcloud\n",
    "wordcloud = WordCloud(\n",
    "    width=1000, height=500,\n",
    "    stopwords=adjustedStopwords,\n",
    "    background_color=\"black\"\n",
    ").generate(sadText)\n",
    "\n",
    "# show\n",
    "plt.imshow(wordcloud)\n",
    "plt.axis(\"off\") \n",
    "plt.show(wordcloud)"
   ]
  },
  {
   "cell_type": "markdown",
   "id": "cb9cfb4c",
   "metadata": {
    "papermill": {
     "duration": 0.013155,
     "end_time": "2023-07-07T19:05:51.483609",
     "exception": false,
     "start_time": "2023-07-07T19:05:51.470454",
     "status": "completed"
    },
    "tags": []
   },
   "source": [
    "# modelling"
   ]
  },
  {
   "cell_type": "code",
   "execution_count": null,
   "id": "10f72704",
   "metadata": {
    "execution": {
     "iopub.execute_input": "2023-07-07T19:05:51.510411Z",
     "iopub.status.busy": "2023-07-07T19:05:51.509548Z",
     "iopub.status.idle": "2023-07-07T19:05:51.569367Z",
     "shell.execute_reply": "2023-07-07T19:05:51.568277Z"
    },
    "papermill": {
     "duration": 0.075882,
     "end_time": "2023-07-07T19:05:51.571447",
     "exception": false,
     "start_time": "2023-07-07T19:05:51.495565",
     "status": "completed"
    },
    "tags": []
   },
   "outputs": [],
   "source": [
    "# translate 4s to 1s\n",
    "df.loc[(df[\"Sentiment\"] == 4), \"Sentiment\"] = 1\n",
    "df.sample(10)"
   ]
  },
  {
   "cell_type": "code",
   "execution_count": null,
   "id": "21bbe6d8",
   "metadata": {
    "execution": {
     "iopub.execute_input": "2023-07-07T19:05:51.597529Z",
     "iopub.status.busy": "2023-07-07T19:05:51.597106Z",
     "iopub.status.idle": "2023-07-07T19:05:51.707447Z",
     "shell.execute_reply": "2023-07-07T19:05:51.706782Z"
    },
    "papermill": {
     "duration": 0.125834,
     "end_time": "2023-07-07T19:05:51.709530",
     "exception": false,
     "start_time": "2023-07-07T19:05:51.583696",
     "status": "completed"
    },
    "tags": []
   },
   "outputs": [],
   "source": [
    "from sklearn.model_selection import train_test_split\n",
    "\n",
    "# split dataset to get equal number of happy & sad tweets\n",
    "numberOfTweets = 500_000\n",
    "x = df['Tweet'][800_000 - (numberOfTweets//2) : 800_000 + (numberOfTweets//2)]\n",
    "y = df['Sentiment'][800_000 - (numberOfTweets//2) : 800_000 + (numberOfTweets//2)]\n",
    "\n",
    "# split dataset into train & test\n",
    "x_train, x_test, y_train, y_test = train_test_split(x, y, test_size = 0.3, random_state = 42)"
   ]
  },
  {
   "cell_type": "code",
   "execution_count": null,
   "id": "83ae33e0",
   "metadata": {
    "execution": {
     "iopub.execute_input": "2023-07-07T19:05:51.736762Z",
     "iopub.status.busy": "2023-07-07T19:05:51.736430Z",
     "iopub.status.idle": "2023-07-07T19:05:58.841133Z",
     "shell.execute_reply": "2023-07-07T19:05:58.839915Z"
    },
    "papermill": {
     "duration": 7.120119,
     "end_time": "2023-07-07T19:05:58.843350",
     "exception": false,
     "start_time": "2023-07-07T19:05:51.723231",
     "status": "completed"
    },
    "tags": []
   },
   "outputs": [],
   "source": [
    "from sklearn.feature_extraction.text import CountVectorizer\n",
    "\n",
    "# bag of words, vectorize tweets\n",
    "vectorizer = CountVectorizer(analyzer = \"word\",\n",
    "                             lowercase = True,\n",
    "                             stop_words = adjustedStopwords,\n",
    "                             max_features = 30_000) \n",
    "\n",
    "x_train = vectorizer.fit_transform(x_train)\n",
    "x_test = vectorizer.transform(x_test)"
   ]
  },
  {
   "cell_type": "markdown",
   "id": "df29188a",
   "metadata": {
    "papermill": {
     "duration": 0.01142,
     "end_time": "2023-07-07T19:05:58.866733",
     "exception": false,
     "start_time": "2023-07-07T19:05:58.855313",
     "status": "completed"
    },
    "tags": []
   },
   "source": [
    "### Random Forest"
   ]
  },
  {
   "cell_type": "code",
   "execution_count": null,
   "id": "8671c355",
   "metadata": {
    "execution": {
     "iopub.execute_input": "2023-07-07T19:05:58.891964Z",
     "iopub.status.busy": "2023-07-07T19:05:58.891191Z",
     "iopub.status.idle": "2023-07-07T19:56:09.387928Z",
     "shell.execute_reply": "2023-07-07T19:56:09.387004Z"
    },
    "papermill": {
     "duration": 3010.525721,
     "end_time": "2023-07-07T19:56:09.403938",
     "exception": false,
     "start_time": "2023-07-07T19:05:58.878217",
     "status": "completed"
    },
    "tags": []
   },
   "outputs": [],
   "source": [
    "from sklearn.ensemble import RandomForestClassifier\n",
    "\n",
    "# train random forest model\n",
    "rf = RandomForestClassifier(n_estimators = 100)\n",
    "rf.fit(x_train, y_train)"
   ]
  },
  {
   "cell_type": "code",
   "execution_count": null,
   "id": "8771b3e6",
   "metadata": {
    "execution": {
     "iopub.execute_input": "2023-07-07T19:56:09.431385Z",
     "iopub.status.busy": "2023-07-07T19:56:09.431037Z",
     "iopub.status.idle": "2023-07-07T19:57:17.805984Z",
     "shell.execute_reply": "2023-07-07T19:57:17.804840Z"
    },
    "papermill": {
     "duration": 68.403708,
     "end_time": "2023-07-07T19:57:17.820477",
     "exception": false,
     "start_time": "2023-07-07T19:56:09.416769",
     "status": "completed"
    },
    "tags": []
   },
   "outputs": [],
   "source": [
    "# train accuracy\n",
    "rf.score(x_train, y_train)"
   ]
  },
  {
   "cell_type": "code",
   "execution_count": null,
   "id": "91db81d1",
   "metadata": {
    "execution": {
     "iopub.execute_input": "2023-07-07T19:57:17.847767Z",
     "iopub.status.busy": "2023-07-07T19:57:17.847364Z",
     "iopub.status.idle": "2023-07-07T19:57:49.144073Z",
     "shell.execute_reply": "2023-07-07T19:57:49.143072Z"
    },
    "papermill": {
     "duration": 31.328639,
     "end_time": "2023-07-07T19:57:49.161769",
     "exception": false,
     "start_time": "2023-07-07T19:57:17.833130",
     "status": "completed"
    },
    "tags": []
   },
   "outputs": [],
   "source": [
    "from sklearn.metrics import accuracy_score\n",
    "\n",
    "# test accuracy\n",
    "y_pred = rf.predict(x_test)\n",
    "accuracy_score(y_test, y_pred)"
   ]
  },
  {
   "cell_type": "code",
   "execution_count": null,
   "id": "f2c93a05",
   "metadata": {
    "execution": {
     "iopub.execute_input": "2023-07-07T19:57:49.192998Z",
     "iopub.status.busy": "2023-07-07T19:57:49.192365Z",
     "iopub.status.idle": "2023-07-07T19:57:49.450448Z",
     "shell.execute_reply": "2023-07-07T19:57:49.449041Z"
    },
    "papermill": {
     "duration": 0.277283,
     "end_time": "2023-07-07T19:57:49.452983",
     "exception": false,
     "start_time": "2023-07-07T19:57:49.175700",
     "status": "completed"
    },
    "tags": []
   },
   "outputs": [],
   "source": [
    "from sklearn.metrics import confusion_matrix\n",
    "\n",
    "# build confusion matrix\n",
    "rfcm = confusion_matrix(y_test, y_pred)\n",
    "\n",
    "sns.heatmap(rfcm, annot = True, fmt='1,').invert_yaxis()\n",
    "plt.xlabel(\"Y_pred\")\n",
    "plt.ylabel(\"Y_test\")\n",
    "plt.title(\"Confusion Matrix\")\n",
    "plt.show()"
   ]
  },
  {
   "cell_type": "code",
   "execution_count": null,
   "id": "dd766093",
   "metadata": {
    "execution": {
     "iopub.execute_input": "2023-07-07T19:57:49.483853Z",
     "iopub.status.busy": "2023-07-07T19:57:49.483447Z",
     "iopub.status.idle": "2023-07-07T19:57:49.682449Z",
     "shell.execute_reply": "2023-07-07T19:57:49.680695Z"
    },
    "papermill": {
     "duration": 0.217283,
     "end_time": "2023-07-07T19:57:49.685300",
     "exception": false,
     "start_time": "2023-07-07T19:57:49.468017",
     "status": "completed"
    },
    "tags": []
   },
   "outputs": [],
   "source": [
    "from sklearn.metrics import classification_report\n",
    "\n",
    "print(classification_report(y_test, y_pred))"
   ]
  },
  {
   "cell_type": "markdown",
   "id": "4148caf0",
   "metadata": {
    "papermill": {
     "duration": 0.013705,
     "end_time": "2023-07-07T19:57:49.713277",
     "exception": false,
     "start_time": "2023-07-07T19:57:49.699572",
     "status": "completed"
    },
    "tags": []
   },
   "source": [
    "### XGBoost"
   ]
  },
  {
   "cell_type": "code",
   "execution_count": null,
   "id": "d9cb02ca",
   "metadata": {
    "execution": {
     "iopub.execute_input": "2023-07-07T19:57:49.743127Z",
     "iopub.status.busy": "2023-07-07T19:57:49.742790Z",
     "iopub.status.idle": "2023-07-07T20:02:06.232627Z",
     "shell.execute_reply": "2023-07-07T20:02:06.231419Z"
    },
    "papermill": {
     "duration": 256.521873,
     "end_time": "2023-07-07T20:02:06.248781",
     "exception": false,
     "start_time": "2023-07-07T19:57:49.726908",
     "status": "completed"
    },
    "tags": []
   },
   "outputs": [],
   "source": [
    "import xgboost as xgb\n",
    "\n",
    "# train xgb model\n",
    "xg = xgb.XGBClassifier(n_estimators=2000)\n",
    "xg.fit(x_train, y_train)"
   ]
  },
  {
   "cell_type": "code",
   "execution_count": null,
   "id": "d848abfa",
   "metadata": {
    "execution": {
     "iopub.execute_input": "2023-07-07T20:02:06.279657Z",
     "iopub.status.busy": "2023-07-07T20:02:06.279285Z",
     "iopub.status.idle": "2023-07-07T20:02:19.306676Z",
     "shell.execute_reply": "2023-07-07T20:02:19.305970Z"
    },
    "papermill": {
     "duration": 13.045367,
     "end_time": "2023-07-07T20:02:19.308267",
     "exception": false,
     "start_time": "2023-07-07T20:02:06.262900",
     "status": "completed"
    },
    "tags": []
   },
   "outputs": [],
   "source": [
    "# train accuracy\n",
    "xg.score(x_train, y_train)"
   ]
  },
  {
   "cell_type": "code",
   "execution_count": null,
   "id": "b51d39a1",
   "metadata": {
    "execution": {
     "iopub.execute_input": "2023-07-07T20:02:19.337415Z",
     "iopub.status.busy": "2023-07-07T20:02:19.336448Z",
     "iopub.status.idle": "2023-07-07T20:02:25.243457Z",
     "shell.execute_reply": "2023-07-07T20:02:25.242581Z"
    },
    "papermill": {
     "duration": 5.923671,
     "end_time": "2023-07-07T20:02:25.245360",
     "exception": false,
     "start_time": "2023-07-07T20:02:19.321689",
     "status": "completed"
    },
    "tags": []
   },
   "outputs": [],
   "source": [
    "# test accuracy\n",
    "y_pred = xg.predict(x_test)\n",
    "accuracy_score(y_test, y_pred)"
   ]
  },
  {
   "cell_type": "code",
   "execution_count": null,
   "id": "fbc63fb9",
   "metadata": {
    "execution": {
     "iopub.execute_input": "2023-07-07T20:02:25.276678Z",
     "iopub.status.busy": "2023-07-07T20:02:25.276338Z",
     "iopub.status.idle": "2023-07-07T20:02:25.495472Z",
     "shell.execute_reply": "2023-07-07T20:02:25.494535Z"
    },
    "papermill": {
     "duration": 0.237619,
     "end_time": "2023-07-07T20:02:25.497843",
     "exception": false,
     "start_time": "2023-07-07T20:02:25.260224",
     "status": "completed"
    },
    "tags": []
   },
   "outputs": [],
   "source": [
    "# build confusion matrix\n",
    "xgcm = confusion_matrix(y_test, y_pred)\n",
    "\n",
    "sns.heatmap(xgcm, annot = True, fmt='1,').invert_yaxis()\n",
    "plt.xlabel(\"Y_pred\")\n",
    "plt.ylabel(\"Y_test\")\n",
    "plt.title(\"Confusion Matrix\")\n",
    "plt.show()"
   ]
  },
  {
   "cell_type": "code",
   "execution_count": null,
   "id": "450c7bdd",
   "metadata": {
    "execution": {
     "iopub.execute_input": "2023-07-07T20:02:25.530832Z",
     "iopub.status.busy": "2023-07-07T20:02:25.530073Z",
     "iopub.status.idle": "2023-07-07T20:02:25.718836Z",
     "shell.execute_reply": "2023-07-07T20:02:25.717373Z"
    },
    "papermill": {
     "duration": 0.208064,
     "end_time": "2023-07-07T20:02:25.721792",
     "exception": false,
     "start_time": "2023-07-07T20:02:25.513728",
     "status": "completed"
    },
    "tags": []
   },
   "outputs": [],
   "source": [
    "print(classification_report(y_test, y_pred))"
   ]
  },
  {
   "cell_type": "markdown",
   "id": "3b5e29e4",
   "metadata": {
    "papermill": {
     "duration": 0.014671,
     "end_time": "2023-07-07T20:02:25.751586",
     "exception": false,
     "start_time": "2023-07-07T20:02:25.736915",
     "status": "completed"
    },
    "tags": []
   },
   "source": [
    "# classifying new input"
   ]
  },
  {
   "cell_type": "code",
   "execution_count": null,
   "id": "5a375d85",
   "metadata": {
    "execution": {
     "iopub.execute_input": "2023-07-07T20:02:25.783345Z",
     "iopub.status.busy": "2023-07-07T20:02:25.782951Z",
     "iopub.status.idle": "2023-07-07T20:02:25.794320Z",
     "shell.execute_reply": "2023-07-07T20:02:25.793554Z"
    },
    "papermill": {
     "duration": 0.030526,
     "end_time": "2023-07-07T20:02:25.797413",
     "exception": false,
     "start_time": "2023-07-07T20:02:25.766887",
     "status": "completed"
    },
    "tags": []
   },
   "outputs": [],
   "source": [
    "sentence = pd.Series(np.array([\"i hate the rain\"])) # example phrase\n",
    "\n",
    "sentence = vectorizer.transform(sentence) \n",
    "xg.predict(sentence)\n",
    "\n",
    "# 0 = sad\n",
    "# 1 = happy"
   ]
  }
 ],
 "metadata": {
  "kernelspec": {
   "display_name": "Python 3",
   "language": "python",
   "name": "python3"
  },
  "language_info": {
   "codemirror_mode": {
    "name": "ipython",
    "version": 3
   },
   "file_extension": ".py",
   "mimetype": "text/x-python",
   "name": "python",
   "nbconvert_exporter": "python",
   "pygments_lexer": "ipython3",
   "version": "3.12.0"
  },
  "papermill": {
   "default_parameters": {},
   "duration": 3704.458585,
   "end_time": "2023-07-07T20:02:27.945920",
   "environment_variables": {},
   "exception": null,
   "input_path": "__notebook__.ipynb",
   "output_path": "__notebook__.ipynb",
   "parameters": {},
   "start_time": "2023-07-07T19:00:43.487335",
   "version": "2.4.0"
  }
 },
 "nbformat": 4,
 "nbformat_minor": 5
}
